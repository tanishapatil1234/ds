{
 "cells": [
  {
   "attachments": {},
   "cell_type": "markdown",
   "metadata": {},
   "source": [
    "# Fueling Growth or Fanning Flames? Investigating the Intricate Relationship Between GDP and CO2 Emissions.\n",
    "> Are the rich responsible for a majority of the CO2 emissions? \n",
    "\n",
    "- title: Visualizing the Carbon Footprint Gap\n",
    "- toc: true\n",
    "- categories: []\n",
    "- image: /images/co2.jpg\n",
    "- type: pbl"
   ]
  },
  {
   "attachments": {},
   "cell_type": "markdown",
   "metadata": {},
   "source": [
    "# Introduction \n",
    "\n",
    "*Intro blurb:*\n",
    "Climate change and its impact on the planet has become an increasingly pressing issue in recent years. One of the primary contributors to climate change is the release of carbon dioxide (CO2) into the atomsphere, mainly through the burning of fossil fuels for energy. As a result, there is an increased interest in understanding the relationship between a country's exonomic growth (measured in gross domestic product (GDP)) and its CO2 emissions. By analyzing GDP and emission data from a wide variety of countries, this project aims to provide insights into the correlation of economic growth and carbon emissions, and contribute to the ongoing discussion of imposing climate change policy, specifically on larger contributors. \n",
    "\n",
    "*Why is CO2 so bad anyways?*\n",
    "- The release of CO2 into the atmosphere causes heat to be trapped within. This is known as the greenhouse effect. When sunlight reaches the Earth's surface some of the energy is reflected back to space. CO2 present in the atmosphere will intercept this energy causing the CO2 molecule to experience vibrations. The vibrations are caused due to CO2's molecular structure, as it is linear containing one carbon atom and two double-bonded oxygens. This linear arrangement creates polarity, and a strong dipole moment, allowing the molecule to react strongly with EM radiation (absorb a signficant amount of energy). The molecule's absorbed energy transforms into heat. This generated heat is radiated back to the Earth's surface where it contributes to global warming, or the increase of the planet's temperature. This temperature rise leads to a number of climate impacts such as sea level rise, intense and frequent heat waves, severe storms, and changes in precipitation patterns.\n"
   ]
  },
  {
   "attachments": {},
   "cell_type": "markdown",
   "metadata": {},
   "source": [
    "# Data"
   ]
  },
  {
   "attachments": {},
   "cell_type": "markdown",
   "metadata": {},
   "source": [
    "## IMPORTING DATA"
   ]
  },
  {
   "cell_type": "code",
   "execution_count": 1,
   "metadata": {},
   "outputs": [],
   "source": [
    "# creating sqlite table\n",
    "import sqlite3\n",
    "from sqlite3 import Error\n",
    "import plotly.io as pio\n",
    "pio.renderers.default = 'iframe'\n",
    "\n",
    "def create_connection(db_file):\n",
    "    \"\"\" create a database connection to the SQLite database\n",
    "        specified by db_file\n",
    "    :param db_file: database file\n",
    "    :return: Connection object or None\n",
    "    \"\"\"\n",
    "    conn = None\n",
    "    try:\n",
    "        conn = sqlite3.connect(db_file)\n",
    "        return conn\n",
    "    except Error as e:\n",
    "        print(e)\n",
    "\n",
    "    return conn\n",
    "def create_table(conn, create_table_sql):\n",
    "    \"\"\" create a table from the create_table_sql statement\n",
    "    :param conn: Connection object\n",
    "    :param create_table_sql: a CREATE TABLE statement\n",
    "    :return:\n",
    "    \"\"\"\n",
    "    try:\n",
    "        c = conn.cursor()\n",
    "        c.execute(create_table_sql)\n",
    "    except Error as e:\n",
    "        print(e)\n",
    "def main():\n",
    "    database = \"instance/energy.db\"\n",
    "\n",
    "    sql_create_projects_table = \"\"\" CREATE TABLE IF NOT EXISTS energy (\n",
    "                                        id PRIMARY KEY,\n",
    "                                        country text NOT NULL,\n",
    "                                        e_type text NOT NULL,\n",
    "                                        year integer NOT NULL,\n",
    "                                        gdp integer NOT NULL, \n",
    "                                        CO2_emission\n",
    "                                        Population\n",
    "                                    ); \"\"\"\n",
    "    sql_create_temp_table = \"\"\" CREATE TABLE IF NOT EXISTS temp (\n",
    "                                        country text NOT NULL,\n",
    "                                        e_type text NOT NULL,\n",
    "                                        year integer NOT NULL,\n",
    "                                        gdp integer NOT NULL, \n",
    "                                        CO2_emission\n",
    "                                    ); \"\"\"\n",
    "\n",
    "    # create a database connection\n",
    "    conn = create_connection(database)\n",
    "\n",
    "    # create tables\n",
    "    if conn is not None:\n",
    "        # create projects table\n",
    "        create_table(conn, sql_create_projects_table)\n",
    "        create_table(conn, sql_create_temp_table)\n",
    "    else:\n",
    "        print(\"Error! cannot create the database connection.\")\n",
    "if __name__ == '__main__':\n",
    "    main()"
   ]
  },
  {
   "cell_type": "code",
   "execution_count": 2,
   "metadata": {},
   "outputs": [],
   "source": [
    "import pandas as pd \n",
    "\n",
    "df = pd.read_csv('files/energy.csv', usecols = ['Country','Energy_type','Year','GDP','CO2_emission', 'Population'])\n",
    "df.to_csv('files/energy1.csv')"
   ]
  },
  {
   "cell_type": "code",
   "execution_count": 3,
   "metadata": {},
   "outputs": [],
   "source": [
    "# Populate\n",
    "import sqlite3 as sq\n",
    "import pandas as pd\n",
    "\n",
    "connection = sq.connect('instance/energy.db')\n",
    " \n",
    "# Create a cursor object\n",
    "curs = connection.cursor()\n",
    " \n",
    "student = pd.read_csv('files/energy1.csv')\n",
    " \n",
    "# Write the data to a sqlite db table\n",
    "student.to_sql('energy', connection, if_exists='replace', index=False)\n",
    "   \n",
    "# Run select sql query\n",
    "curs.execute('select * from energy')\n",
    " \n",
    "# Fetch all records\n",
    "# as list of tuples\n",
    "records = curs.fetchall()\n",
    "     \n",
    "# Close connection to SQLite database\n",
    "connection.close()"
   ]
  },
  {
   "attachments": {},
   "cell_type": "markdown",
   "metadata": {},
   "source": [
    "## CLEANING DATA"
   ]
  },
  {
   "cell_type": "code",
   "execution_count": 4,
   "metadata": {},
   "outputs": [],
   "source": [
    "# DATA CLEANING\n",
    "\n",
    "import sqlite3\n",
    "\n",
    "conn = sqlite3.connect('instance/energy.db')\n",
    "cursor = conn.cursor()\n",
    "\n",
    "cursor.execute(\"DELETE FROM energy WHERE Energy_type <> 'all_energy_types'\")\n",
    "\n",
    "cursor.execute(\"DELETE FROM energy WHERE Country = 'World'\")\n",
    "\n",
    "cursor.execute(\"DELETE FROM energy WHERE GDP IS NULL\")\n",
    "\n",
    "conn.commit()\n",
    "\n",
    "cursor.close()\n",
    "conn.close()\n"
   ]
  },
  {
   "attachments": {},
   "cell_type": "markdown",
   "metadata": {},
   "source": [
    "## XLIST, YLIST, CLIST : READYING DATA FOR VISUAL REPRESENTATION"
   ]
  },
  {
   "cell_type": "code",
   "execution_count": 5,
   "metadata": {},
   "outputs": [],
   "source": [
    "# x-val list\n",
    "import sqlite3\n",
    "\n",
    "# Connect to SQLite database\n",
    "conn = sqlite3.connect('instance/energy.db')\n",
    "c = conn.cursor()\n",
    "\n",
    "# Execute SQL query to retrieve column data\n",
    "c.execute(\"SELECT GDP FROM energy\")\n",
    "\n",
    "# Fetch all rows and store column data in a list\n",
    "x_list = [row[0] for row in c.fetchall()]\n",
    "\n",
    "# Close database connection\n",
    "conn.close()\n"
   ]
  },
  {
   "cell_type": "code",
   "execution_count": 6,
   "metadata": {},
   "outputs": [],
   "source": [
    "# y val list\n",
    "import sqlite3\n",
    "\n",
    "# Connect to SQLite database\n",
    "conn = sqlite3.connect('instance/energy.db')\n",
    "c = conn.cursor()\n",
    "\n",
    "# Execute SQL query to retrieve column data\n",
    "c.execute(\"SELECT CO2_emission FROM energy\")\n",
    "\n",
    "# Fetch all rows and store column data in a list\n",
    "y_list = [row[0] for row in c.fetchall()]\n",
    "\n",
    "# Close database connection\n",
    "conn.close()"
   ]
  },
  {
   "cell_type": "code",
   "execution_count": 7,
   "metadata": {},
   "outputs": [],
   "source": [
    "# country val list\n",
    "import sqlite3\n",
    "\n",
    "# Connect to SQLite database\n",
    "conn = sqlite3.connect('instance/energy.db')\n",
    "c = conn.cursor()\n",
    "\n",
    "# Execute SQL query to retrieve column data\n",
    "c.execute(\"SELECT Country FROM energy\")\n",
    "\n",
    "# Fetch all rows and store column data in a list\n",
    "c_list = [row[0] for row in c.fetchall()]\n",
    "\n",
    "# Close database connection\n",
    "conn.close()"
   ]
  },
  {
   "cell_type": "code",
   "execution_count": 8,
   "metadata": {},
   "outputs": [],
   "source": [
    "# population val list\n",
    "import sqlite3\n",
    "\n",
    "# Connect to SQLite database\n",
    "conn = sqlite3.connect('instance/energy.db')\n",
    "c = conn.cursor()\n",
    "\n",
    "# Execute SQL query to retrieve column data\n",
    "c.execute(\"SELECT Population FROM energy\")\n",
    "\n",
    "# Fetch all rows and store column data in a list\n",
    "p_list = [row[0] for row in c.fetchall()]\n",
    "\n",
    "# Close database connection\n",
    "conn.close()"
   ]
  },
  {
   "attachments": {},
   "cell_type": "markdown",
   "metadata": {},
   "source": [
    "## Visualization "
   ]
  },
  {
   "cell_type": "code",
   "execution_count": 9,
   "metadata": {},
   "outputs": [
    {
     "data": {
      "image/png": "[encoded data removed]",
      "text/plain": [
       "<Figure size 576x576 with 1 Axes>"
      ]
     },
     "metadata": {
      "needs_background": "light"
     },
     "output_type": "display_data"
    }
   ],
   "source": [
    "# Graph using matplotlib\n",
    "import matplotlib.pyplot as plt\n",
    "import seaborn as sns\n",
    "\n",
    "endb = {\n",
    "    \"Country\": c_list,\n",
    "\t\"GDP\": x_list,\n",
    "\t\"CO2 Emissions\": y_list,\n",
    "    \"Population\": p_list\n",
    "}\n",
    "# Control figure size for this notebook:\n",
    "plt.rcParams['figure.figsize'] = [8, 8]\n",
    "\n",
    "# data \n",
    "data = pd.DataFrame(endb)\n",
    " \n",
    "\n",
    "# use the scatterplot function to build the bubble map\n",
    "sns.scatterplot(data=data, x=\"GDP\", y=\"CO2 Emissions\",   legend=False, sizes=(20, 2000))\n",
    "plt.xscale('log')\n",
    "plt.yscale('log')\n",
    "\n",
    "# show the graph\n",
    "plt.show()"
   ]
  },
  {
   "attachments": {},
   "cell_type": "markdown",
   "metadata": {},
   "source": [
    "Add a line of best fit to understand if GDP and CO2 Emissions are correlated mathematically."
   ]
  },
  {
   "cell_type": "code",
   "execution_count": 10,
   "metadata": {},
   "outputs": [
    {
     "data": {
      "text/html": [
       "        <script type=\"text/javascript\">\n",
       "        window.PlotlyConfig = {MathJaxConfig: 'local'};\n",
       "        if (window.MathJax) {MathJax.Hub.Config({SVG: {font: \"STIX-Web\"}});}\n",
       "        if (typeof require !== 'undefined') {\n",
       "        require.undef(\"plotly\");\n",
       "        requirejs.config({\n",
       "            paths: {\n",
       "                'plotly': ['https://cdn.plot.ly/plotly-2.9.0.min']\n",
       "            }\n",
       "        });\n",
       "        require(['plotly'], function(Plotly) {\n",
       "            window._Plotly = Plotly;\n",
       "        });\n",
       "        }\n",
       "        </script>\n",
       "        "
      ]
     },
     "metadata": {},
     "output_type": "display_data"
    },
    {
     "name": "stdout",
     "output_type": "stream",
     "text": [
      "0.9072619938877866\n"
     ]
    },
    {
     "data": {
      "application/vnd.plotly.v1+json": {
       "config": {
        "linkText": "Export to plot.ly",
        "plotlyServerURL": "https://plot.ly",
        "showLink": false
       },
       "data": [
        {
         "hovertemplate": "Country: %{text}<br>GDP: Billion %{x}$ PPP<br>CO2 Emissions: %{y} MMtonnes",
         "marker": {
          "color": [
           0,
           1,
           2,
           3,
           4,
           5,
           6,
           7,
           8,
           9,
           10,
           11,
           12,
           13,
           14,
           15,
           16,
           17,
           18,
           19,
           20,
           21,
           22,
           23,
           24,
           25,
           26,
           27,
           28,
           29,
           30,
           31,
           32,
           33,
           34,
           35,
           36,
           37,
           38,
           39,
           40,
           41,
           42,
           43,
           44,
           45,
           46,
           47,
           48,
           49,
           50,
           51,
           52,
           53,
           54,
           55,
           56,
           57,
           58,
           59,
           60,
           61,
           62,
           63,
           64,
           65,
           66,
           67,
           68,
           69,
           70,
           71,
           72,
           73,
           74,
           75,
           76,
           77,
           78,
           79,
           80,
           81,
           82,
           83,
           84,
           85,
           86,
           87,
           88,
           89,
           90,
           91,
           92,
           93,
           94,
           95,
           96,
           97,
           98,
           99,
           100,
           101,
           102,
           103,
           104,
           105,
           106,
           107,
           108,
           109,
           110,
           111,
           112,
           113,
           114,
           115,
           116,
           117,
           118,
           119,
           120,
           121,
           122,
           123,
           124,
           125,
           126,
           127,
           128,
           129,
           130,
           131,
           132,
           133,
           134,
           135,
           136,
           137,
           138,
           139,
           140,
           141,
           142,
           143,
           144,
           145,
           146,
           147,
           148,
           149,
           150,
           151,
           152,
           153,
           154,
           155,
           156,
           157,
           158,
           159,
           160,
           161,
           162,
           163,
           164,
           165,
           166,
           167,
           168,
           169,
           170,
           171,
           172,
           173,
           174,
           175,
           176,
           177,
           178,
           179,
           180,
           181,
           182,
           183,
           184,
           185,
           186,
           187,
           188,
           189,
           190,
           191,
           192,
           193,
           194,
           195,
           196,
           197,
           198,
           199
          ],
          "colorscale": [
           [
            0,
            "rgb(150,0,90)"
           ],
           [
            0.125,
            "rgb(0,0,200)"
           ],
           [
            0.25,
            "rgb(0,25,255)"
           ],
           [
            0.375,
            "rgb(0,152,255)"
           ],
           [
            0.5,
            "rgb(44,255,150)"
           ],
           [
            0.625,
            "rgb(151,255,0)"
           ],
           [
            0.75,
            "rgb(255,234,0)"
           ],
           [
            0.875,
            "rgb(255,111,0)"
           ],
           [
            1,
            "rgb(255,0,0)"
           ]
          ],
          "size": 10
         },
         "mode": "markers",
         "name": "Data",
         "text": [
          "Afghanistan",
          "Albania",
          "Algeria",
          "Angola",
          "Antigua and Barbuda",
          "Argentina",
          "Armenia",
          "Aruba",
          "Australia",
          "Austria",
          "Azerbaijan",
          "Bahrain",
          "Bangladesh",
          "Barbados",
          "Belarus",
          "Belgium",
          "Belize",
          "Benin",
          "Bermuda",
          "Bhutan",
          "Bolivia",
          "Bosnia and Herzegovina",
          "Botswana",
          "Brazil",
          "British Virgin Islands",
          "Brunei",
          "Bulgaria",
          "Burkina Faso",
          "Burma",
          "Burundi",
          "Cabo Verde",
          "Cambodia",
          "Cameroon",
          "Canada",
          "Cayman Islands",
          "Central African Republic",
          "Chad",
          "Chile",
          "China",
          "Colombia",
          "Comoros",
          "Congo-Brazzaville",
          "Congo-Kinshasa",
          "Costa Rica",
          "Croatia",
          "Cuba",
          "Cyprus",
          "Czech Republic",
          "Côte d’Ivoire",
          "Denmark",
          "Djibouti",
          "Dominica",
          "Dominican Republic",
          "Ecuador",
          "Egypt",
          "El Salvador",
          "Equatorial Guinea",
          "Eritrea",
          "Estonia",
          "Eswatini",
          "Ethiopia",
          "Fiji",
          "Finland",
          "France",
          "Gabon",
          "Gambia, The",
          "Georgia",
          "Germany",
          "Ghana",
          "Greece",
          "Greenland",
          "Grenada",
          "Guadeloupe",
          "Guatemala",
          "Guinea",
          "Guinea-Bissau",
          "Guyana",
          "Haiti",
          "Honduras",
          "Hong Kong",
          "Hungary",
          "Iceland",
          "India",
          "Indonesia",
          "Iran",
          "Iraq",
          "Ireland",
          "Israel",
          "Italy",
          "Jamaica",
          "Japan",
          "Jordan",
          "Kazakhstan",
          "Kenya",
          "Kiribati",
          "Kosovo",
          "Kuwait",
          "Kyrgyzstan",
          "Laos",
          "Latvia",
          "Lebanon",
          "Lesotho",
          "Liberia",
          "Libya",
          "Lithuania",
          "Luxembourg",
          "Macau",
          "Madagascar",
          "Malawi",
          "Malaysia",
          "Maldives",
          "Mali",
          "Malta",
          "Martinique",
          "Mauritania",
          "Mauritius",
          "Mexico",
          "Moldova",
          "Mongolia",
          "Montenegro",
          "Morocco",
          "Mozambique",
          "Namibia",
          "Nepal",
          "Netherlands",
          "Netherlands Antilles",
          "New Zealand",
          "Nicaragua",
          "Niger",
          "Nigeria",
          "North Korea",
          "North Macedonia",
          "Norway",
          "Oman",
          "Pakistan",
          "Palestinian Territories",
          "Panama",
          "Papua New Guinea",
          "Paraguay",
          "Peru",
          "Philippines",
          "Poland",
          "Portugal",
          "Puerto Rico",
          "Qatar",
          "Reunion",
          "Romania",
          "Russia",
          "Rwanda",
          "Saint Kitts and Nevis",
          "Saint Lucia",
          "Saint Vincent/Grenadines",
          "Samoa",
          "Sao Tome and Principe",
          "Saudi Arabia",
          "Senegal",
          "Serbia",
          "Seychelles",
          "Sierra Leone",
          "Singapore",
          "Slovakia",
          "Slovenia",
          "Solomon Islands",
          "Somalia",
          "South Africa",
          "South Korea",
          "South Sudan",
          "Spain",
          "Sri Lanka",
          "Sudan",
          "Suriname",
          "Sweden",
          "Switzerland",
          "Syria",
          "Taiwan",
          "Tajikistan",
          "Tanzania",
          "Thailand",
          "The Bahamas",
          "Timor-Leste",
          "Togo",
          "Tonga",
          "Trinidad and Tobago",
          "Tunisia",
          "Turkey",
          "Turkmenistan",
          "U.S. Virgin Islands",
          "Uganda",
          "Ukraine",
          "United Arab Emirates",
          "United Kingdom",
          "United States",
          "Uruguay",
          "Uzbekistan",
          "Vanuatu",
          "Venezuela",
          "Vietnam",
          "Yemen",
          "Zambia",
          "Zimbabwe"
         ],
         "type": "scatter",
         "x": [
          79.4546,
          38.2684,
          509.066,
          193.826,
          2.12893,
          833.501,
          35.5628,
          3.20784,
          1226.586,
          467.708,
          145.705,
          70.4457,
          798.113,
          4.52673,
          178.892,
          557.634,
          2.78824,
          38.0152,
          6.64648,
          8.10603,
          89.7455,
          47.1135,
          36.97997,
          3041.299,
          1.44981,
          26.6516,
          149.2549,
          39.3968,
          275.791,
          8.84175,
          3.77316,
          69.1922,
          88.9149,
          1737.87,
          3.77842,
          4.13773,
          24.9406,
          439.69,
          23128.34,
          690.987,
          2.384,
          17.937,
          80.9978,
          94.3605,
          110.2903,
          152.228,
          33.8259,
          410.036,
          141.232,
          308.2223,
          5.84841,
          0.802973,
          190.149,
          183.665,
          1291.81,
          52.962,
          21.3042,
          6.02485,
          45.198,
          10.5029,
          231.935,
          12.1234,
          252.9957,
          2918.618,
          30.7828,
          5.2609,
          53.4418,
          4182.05,
          183.3466,
          300.5935,
          5.17249,
          1.78501,
          10.8742,
          144.896,
          28.567,
          3.63339,
          10.1827,
          31.908,
          51.0377,
          441.164,
          309.9521,
          19.3761,
          9310.29,
          3227.667,
          1099.27,
          426.217,
          416.234,
          349.752,
          2340.371,
          26.7529,
          5359.05,
          94.7813,
          464.79,
          211.4738,
          0.234263,
          20.2266,
          180.991,
          29.7684,
          53.3016,
          55.5939,
          92.4576,
          6.32009,
          5.60223,
          84.2519,
          97.4069,
          66.2214,
          79.3202,
          43.6525,
          28.3955,
          908.76,
          10.0602,
          43.3564,
          21.5613,
          7.25285,
          19.2667,
          27.95627,
          2384.142,
          30.9415,
          39.254,
          11.9806,
          275.648,
          38.10749,
          24.41,
          101.266,
          934.921,
          2.80876,
          198.6641,
          33.5562,
          28.87,
          1015.889,
          43.1394,
          31.7368,
          330.2825,
          141.208,
          1039.88,
          14.0824,
          118.865,
          32.4518,
          86.3046,
          402.28,
          949.711,
          1217.987,
          342.6999,
          66.9118,
          247.046,
          24.8272,
          522.905,
          3770.42,
          27.008,
          1.36317,
          2.71244,
          1.34094,
          1.09107,
          1.06389,
          1771.04,
          54.8701,
          121.686,
          2.532797,
          13.8469,
          545.403,
          181.3875,
          76.4882,
          1.54738,
          10.8476,
          785.223,
          2160.64,
          17.3349,
          1796.293,
          276.987,
          187.629,
          9.20889,
          524.62,
          590.958,
          53.6025,
          1232.274,
          35.11,
          153.3535,
          1248.417,
          13.643,
          4.05685,
          16.8355,
          0.574064,
          33.9752,
          122.68,
          2338.015,
          110.936,
          1.883,
          103.1059,
          487.698,
          663.292,
          2992.817,
          19925.43,
          78.0812,
          257.435,
          0.761102,
          190.1472,
          915.504,
          53.0838,
          247.1819,
          37.6204
         ],
         "y": [
          9.391163087,
          4.031301559,
          145.987969135,
          17.644576606,
          0.7348894,
          191.358658271,
          5.976457104,
          1.20493081,
          410.865148205,
          63.844027897,
          33.285637886,
          39.014442502,
          90.78163083,
          1.702104465,
          56.523597698,
          132.279624636,
          0.577712955,
          7.736424191,
          0.797279806,
          0.967306365,
          18.335565837,
          17.266938088,
          6.188921367,
          453.443272227,
          0.216635316,
          10.22519768,
          41.542759685,
          4.391342618,
          32.968880216,
          0.67983302,
          1.001529634,
          11.890895952,
          7.245713401,
          613.089866972,
          0.667298,
          0.278282,
          1.7162899,
          86.874650457,
          10608.600386434,
          75.94596771,
          0.301926504,
          4.4339781,
          2.641757936,
          7.923880021,
          17.147887659,
          22.496372604,
          8.226035335,
          104.272224724,
          10.798183713,
          36.120050677,
          0.67469826,
          0.185983702,
          25.265246857,
          37.349371309,
          235.494498177,
          7.04650887,
          4.669231827,
          0.74245581,
          5.509905901,
          1.203506529,
          14.060422857,
          1.649180054,
          44.65256288,
          341.980653833,
          3.278674777,
          0.5941987,
          9.84778636,
          781.596225481,
          17.630249841,
          73.672821577,
          0.612110253,
          0.317136381,
          1.90047837,
          19.708437412,
          2.980732599,
          0.341846886,
          2.321942783,
          3.457576199,
          10.050869894,
          97.454364217,
          49.473804477,
          3.871221764,
          2308.332020002,
          529.404672898,
          642.964293906,
          154.661243618,
          37.056083624,
          64.594443709,
          339.577060466,
          8.071670366,
          1140.949687525,
          24.328952101,
          269.713173947,
          18.746653189,
          0.07528207,
          7.7258036,
          92.889166266,
          9.123794565,
          29.94530902,
          7.87244579,
          25.478354557,
          0.71763765,
          1.34566552,
          39.866451985,
          14.25507877,
          11.169565111,
          2.013405144,
          3.391414709,
          1.508163994,
          247.428983914,
          2.036072914,
          5.257908981,
          9.191731982,
          2.24158345,
          3.87875476,
          6.938191586,
          456.148338455,
          7.975804163,
          20.901836824,
          2.524134994,
          59.02569629,
          7.785808405,
          3.90852628,
          8.30706762,
          216.830355385,
          14.496783,
          38.962262785,
          5.027809,
          2.276804081,
          101.193925365,
          20.153995305,
          6.539300393,
          38.055784902,
          75.869640578,
          192.896993866,
          3.277635491,
          26.79318633,
          6.323287075,
          8.338166715,
          52.918496178,
          135.216311732,
          319.670314026,
          53.518320981,
          20.150917372,
          105.34120271,
          2.722415119,
          73.684118621,
          1798.242238512,
          1.10937668,
          0.268462136,
          0.451661075,
          0.2392802,
          0.324490111,
          0.158288716,
          567.98859898,
          9.558694385,
          47.041072192,
          1.1521043,
          0.985050284,
          244.056494874,
          34.50052687,
          14.248656405,
          0.338062091,
          0.882390681,
          455.448598942,
          702.961082317,
          1.675889,
          293.779473717,
          22.809417184,
          18.36376,
          2.314032735,
          47.079863482,
          38.8391437,
          30.957562784,
          283.193662206,
          6.870917512,
          11.481377071,
          303.667169932,
          3.982675282,
          0.53420808,
          2.255794107,
          0.150016259,
          40.485352133,
          25.326405225,
          397.800544326,
          97.306322119,
          2.438125286,
          5.866205464,
          202.513341064,
          274.042277491,
          411.167847675,
          5277.192754,
          7.311541742,
          99.389348903,
          0.234325792,
          131.48505504,
          241.806422052,
          8.292505229,
          7.09628982,
          8.964759021
         ]
        },
        {
         "line": {
          "color": "red"
         },
         "mode": "lines",
         "name": "Line of Best Fit",
         "type": "scatter",
         "x": [
          79.4546,
          38.2684,
          509.066,
          193.826,
          2.12893,
          833.501,
          35.5628,
          3.20784,
          1226.586,
          467.708,
          145.705,
          70.4457,
          798.113,
          4.52673,
          178.892,
          557.634,
          2.78824,
          38.0152,
          6.64648,
          8.10603,
          89.7455,
          47.1135,
          36.97997,
          3041.299,
          1.44981,
          26.6516,
          149.2549,
          39.3968,
          275.791,
          8.84175,
          3.77316,
          69.1922,
          88.9149,
          1737.87,
          3.77842,
          4.13773,
          24.9406,
          439.69,
          23128.34,
          690.987,
          2.384,
          17.937,
          80.9978,
          94.3605,
          110.2903,
          152.228,
          33.8259,
          410.036,
          141.232,
          308.2223,
          5.84841,
          0.802973,
          190.149,
          183.665,
          1291.81,
          52.962,
          21.3042,
          6.02485,
          45.198,
          10.5029,
          231.935,
          12.1234,
          252.9957,
          2918.618,
          30.7828,
          5.2609,
          53.4418,
          4182.05,
          183.3466,
          300.5935,
          5.17249,
          1.78501,
          10.8742,
          144.896,
          28.567,
          3.63339,
          10.1827,
          31.908,
          51.0377,
          441.164,
          309.9521,
          19.3761,
          9310.29,
          3227.667,
          1099.27,
          426.217,
          416.234,
          349.752,
          2340.371,
          26.7529,
          5359.05,
          94.7813,
          464.79,
          211.4738,
          0.234263,
          20.2266,
          180.991,
          29.7684,
          53.3016,
          55.5939,
          92.4576,
          6.32009,
          5.60223,
          84.2519,
          97.4069,
          66.2214,
          79.3202,
          43.6525,
          28.3955,
          908.76,
          10.0602,
          43.3564,
          21.5613,
          7.25285,
          19.2667,
          27.95627,
          2384.142,
          30.9415,
          39.254,
          11.9806,
          275.648,
          38.10749,
          24.41,
          101.266,
          934.921,
          2.80876,
          198.6641,
          33.5562,
          28.87,
          1015.889,
          43.1394,
          31.7368,
          330.2825,
          141.208,
          1039.88,
          14.0824,
          118.865,
          32.4518,
          86.3046,
          402.28,
          949.711,
          1217.987,
          342.6999,
          66.9118,
          247.046,
          24.8272,
          522.905,
          3770.42,
          27.008,
          1.36317,
          2.71244,
          1.34094,
          1.09107,
          1.06389,
          1771.04,
          54.8701,
          121.686,
          2.532797,
          13.8469,
          545.403,
          181.3875,
          76.4882,
          1.54738,
          10.8476,
          785.223,
          2160.64,
          17.3349,
          1796.293,
          276.987,
          187.629,
          9.20889,
          524.62,
          590.958,
          53.6025,
          1232.274,
          35.11,
          153.3535,
          1248.417,
          13.643,
          4.05685,
          16.8355,
          0.574064,
          33.9752,
          122.68,
          2338.015,
          110.936,
          1.883,
          103.1059,
          487.698,
          663.292,
          2992.817,
          19925.43,
          78.0812,
          257.435,
          0.761102,
          190.1472,
          915.504,
          53.0838,
          247.1819,
          37.6204
         ],
         "y": [
          -19.203236880087594,
          -33.71725822110741,
          132.19186701260946,
          21.101256867874433,
          -46.45281136349844,
          246.5227961532868,
          -34.6707119541603,
          -46.07260336263796,
          385.0459927296832,
          117.61730333298144,
          4.143411255722448,
          -22.37797421587272,
          234.05206112029012,
          -45.60782638378443,
          15.838513650321225,
          149.3072354731776,
          -46.22047044808629,
          -33.806485928532375,
          -44.86082625418697,
          -44.34648067609806,
          -15.576722605444608,
          -30.600244023064025,
          -34.17130109266172,
          1024.5510504875265,
          -46.692133325056275,
          -37.81101979936321,
          5.394396400224387,
          -33.3196099388865,
          49.98573174578717,
          -44.08721286840968,
          -45.873384533406195,
          -22.81970775164364,
          -15.869426135409768,
          565.222529708622,
          -45.87153090883647,
          -45.74491002591836,
          -38.41397638468754,
          107.74375709825489,
          8103.226474584433,
          196.3008471171024,
          -46.36292466787092,
          -40.882045783271685,
          -18.659413032938264,
          -13.950396105577994,
          -8.336732860166244,
          6.442117162251144,
          -35.28279570228995,
          97.29368428632756,
          2.567125571236332,
          61.414525378533476,
          -45.14206620862869,
          -46.92007875391743,
          19.805481669605847,
          17.520519367301368,
          408.03093739432023,
          -28.539231989592757,
          -39.6954441385586,
          -45.07988873351786,
          -31.27526643053846,
          -43.50182342848478,
          34.53087259559208,
          -42.93075905296281,
          41.95266555674936,
          981.318252799523,
          -36.35518447189864,
          -45.34910479626393,
          -28.370150417623957,
          1426.5518264462141,
          17.408315172814362,
          58.72613543223175,
          -45.38026048983993,
          -46.5740088087496,
          -43.370977268267985,
          3.858319568096846,
          -37.13603263189961,
          -45.92263949654517,
          -43.614661943166745,
          -35.95866387002434,
          -29.217355518020348,
          108.26319485790893,
          62.02410708589408,
          -40.374906787397784,
          3233.7441579036313,
          1090.2271538736893,
          340.1798205396467,
          102.99587043894766,
          99.47786015765439,
          76.04959615675895,
          777.5439473675899,
          -37.77532166839106,
          1841.3267539311562,
          -13.802106139999687,
          116.58899981692275,
          27.32034349936871,
          -47.12049221951638,
          -40.075190495277184,
          16.578201477671186,
          -36.712659141771816,
          -28.419556912809504,
          -27.611750144522563,
          -14.620978271687676,
          -44.9758461255394,
          -45.2288200672933,
          -17.51266784047543,
          -12.87684441561187,
          -23.86661799342127,
          -19.250599454644924,
          -31.81990079793691,
          -37.19646925047537,
          273.0440759048495,
          -43.65783095643514,
          -31.924246470008526,
          -39.604842070711214,
          -44.647141400508936,
          -40.41345935924728,
          -37.35125395004989,
          792.9688525085783,
          -36.2992585747093,
          -33.36993267435366,
          -42.981081788429975,
          49.935338530298345,
          -33.77396292253613,
          -38.60095988215866,
          -11.516897157619397,
          282.26321513843794,
          -46.2132391978637,
          22.806203831905783,
          -35.37783801150209,
          -37.029255399080625,
          310.7963471083621,
          -32.000717293512544,
          -36.0189947685676,
          69.18854224795007,
          2.5586679686368115,
          319.2507781069104,
          -42.24040724077675,
          -5.3150076514108235,
          -35.76702869112348,
          -16.789296138140397,
          94.56046904624836,
          287.475212740394,
          382.01570419829574,
          73.5644353529216,
          -23.623320958641656,
          39.85599063231677,
          -38.453938556970286,
          137.06873211155943,
          1281.4933698611446,
          -37.68542440076029,
          -46.72266527044055,
          -46.24718237629645,
          -46.730499124848365,
          -46.81855333991265,
          -46.828131574856606,
          576.9116413013795,
          -27.866817342919845,
          -4.320886945858547,
          -46.31048858895421,
          -42.32339746628457,
          144.99702974839568,
          16.717928120617465,
          -20.248596561388638,
          -46.65774964648813,
          -43.380351111149125,
          229.50962372412957,
          714.2067235003034,
          -41.094225888487216,
          585.8108012366192,
          50.40720227533007,
          18.91743339665593,
          -43.95783269264348,
          137.67309829731704,
          161.05061668261533,
          -28.313519720217986,
          387.05044454577006,
          -34.83027872320464,
          6.838743484157938,
          392.7392394942743,
          -42.39525184836968,
          -45.77341214667875,
          -41.27021450257896,
          -47.00074631031136,
          -35.230182366118754,
          -3.9706012381949662,
          776.7136927124033,
          -8.109188110228239,
          -46.53947712213597,
          -10.86851619833346,
          124.66178149816747,
          186.54112611736113,
          1007.4659884362734,
          6974.52064366617,
          -19.6872231888453,
          43.517075357585306,
          -46.93483409885262,
          19.804847349410885,
          275.4206622353155,
          -28.49630965640018,
          39.90388180703656,
          -33.94561349129453
         ]
        }
       ],
       "layout": {
        "hovermode": "closest",
        "template": {
         "data": {
          "bar": [
           {
            "error_x": {
             "color": "#2a3f5f"
            },
            "error_y": {
             "color": "#2a3f5f"
            },
            "marker": {
             "line": {
              "color": "#E5ECF6",
              "width": 0.5
             },
             "pattern": {
              "fillmode": "overlay",
              "size": 10,
              "solidity": 0.2
             }
            },
            "type": "bar"
           }
          ],
          "barpolar": [
           {
            "marker": {
             "line": {
              "color": "#E5ECF6",
              "width": 0.5
             },
             "pattern": {
              "fillmode": "overlay",
              "size": 10,
              "solidity": 0.2
             }
            },
            "type": "barpolar"
           }
          ],
          "carpet": [
           {
            "aaxis": {
             "endlinecolor": "#2a3f5f",
             "gridcolor": "white",
             "linecolor": "white",
             "minorgridcolor": "white",
             "startlinecolor": "#2a3f5f"
            },
            "baxis": {
             "endlinecolor": "#2a3f5f",
             "gridcolor": "white",
             "linecolor": "white",
             "minorgridcolor": "white",
             "startlinecolor": "#2a3f5f"
            },
            "type": "carpet"
           }
          ],
          "choropleth": [
           {
            "colorbar": {
             "outlinewidth": 0,
             "ticks": ""
            },
            "type": "choropleth"
           }
          ],
          "contour": [
           {
            "colorbar": {
             "outlinewidth": 0,
             "ticks": ""
            },
            "colorscale": [
             [
              0,
              "#0d0887"
             ],
             [
              0.1111111111111111,
              "#46039f"
             ],
             [
              0.2222222222222222,
              "#7201a8"
             ],
             [
              0.3333333333333333,
              "#9c179e"
             ],
             [
              0.4444444444444444,
              "#bd3786"
             ],
             [
              0.5555555555555556,
              "#d8576b"
             ],
             [
              0.6666666666666666,
              "#ed7953"
             ],
             [
              0.7777777777777778,
              "#fb9f3a"
             ],
             [
              0.8888888888888888,
              "#fdca26"
             ],
             [
              1,
              "#f0f921"
             ]
            ],
            "type": "contour"
           }
          ],
          "contourcarpet": [
           {
            "colorbar": {
             "outlinewidth": 0,
             "ticks": ""
            },
            "type": "contourcarpet"
           }
          ],
          "heatmap": [
           {
            "colorbar": {
             "outlinewidth": 0,
             "ticks": ""
            },
            "colorscale": [
             [
              0,
              "#0d0887"
             ],
             [
              0.1111111111111111,
              "#46039f"
             ],
             [
              0.2222222222222222,
              "#7201a8"
             ],
             [
              0.3333333333333333,
              "#9c179e"
             ],
             [
              0.4444444444444444,
              "#bd3786"
             ],
             [
              0.5555555555555556,
              "#d8576b"
             ],
             [
              0.6666666666666666,
              "#ed7953"
             ],
             [
              0.7777777777777778,
              "#fb9f3a"
             ],
             [
              0.8888888888888888,
              "#fdca26"
             ],
             [
              1,
              "#f0f921"
             ]
            ],
            "type": "heatmap"
           }
          ],
          "heatmapgl": [
           {
            "colorbar": {
             "outlinewidth": 0,
             "ticks": ""
            },
            "colorscale": [
             [
              0,
              "#0d0887"
             ],
             [
              0.1111111111111111,
              "#46039f"
             ],
             [
              0.2222222222222222,
              "#7201a8"
             ],
             [
              0.3333333333333333,
              "#9c179e"
             ],
             [
              0.4444444444444444,
              "#bd3786"
             ],
             [
              0.5555555555555556,
              "#d8576b"
             ],
             [
              0.6666666666666666,
              "#ed7953"
             ],
             [
              0.7777777777777778,
              "#fb9f3a"
             ],
             [
              0.8888888888888888,
              "#fdca26"
             ],
             [
              1,
              "#f0f921"
             ]
            ],
            "type": "heatmapgl"
           }
          ],
          "histogram": [
           {
            "marker": {
             "pattern": {
              "fillmode": "overlay",
              "size": 10,
              "solidity": 0.2
             }
            },
            "type": "histogram"
           }
          ],
          "histogram2d": [
           {
            "colorbar": {
             "outlinewidth": 0,
             "ticks": ""
            },
            "colorscale": [
             [
              0,
              "#0d0887"
             ],
             [
              0.1111111111111111,
              "#46039f"
             ],
             [
              0.2222222222222222,
              "#7201a8"
             ],
             [
              0.3333333333333333,
              "#9c179e"
             ],
             [
              0.4444444444444444,
              "#bd3786"
             ],
             [
              0.5555555555555556,
              "#d8576b"
             ],
             [
              0.6666666666666666,
              "#ed7953"
             ],
             [
              0.7777777777777778,
              "#fb9f3a"
             ],
             [
              0.8888888888888888,
              "#fdca26"
             ],
             [
              1,
              "#f0f921"
             ]
            ],
            "type": "histogram2d"
           }
          ],
          "histogram2dcontour": [
           {
            "colorbar": {
             "outlinewidth": 0,
             "ticks": ""
            },
            "colorscale": [
             [
              0,
              "#0d0887"
             ],
             [
              0.1111111111111111,
              "#46039f"
             ],
             [
              0.2222222222222222,
              "#7201a8"
             ],
             [
              0.3333333333333333,
              "#9c179e"
             ],
             [
              0.4444444444444444,
              "#bd3786"
             ],
             [
              0.5555555555555556,
              "#d8576b"
             ],
             [
              0.6666666666666666,
              "#ed7953"
             ],
             [
              0.7777777777777778,
              "#fb9f3a"
             ],
             [
              0.8888888888888888,
              "#fdca26"
             ],
             [
              1,
              "#f0f921"
             ]
            ],
            "type": "histogram2dcontour"
           }
          ],
          "mesh3d": [
           {
            "colorbar": {
             "outlinewidth": 0,
             "ticks": ""
            },
            "type": "mesh3d"
           }
          ],
          "parcoords": [
           {
            "line": {
             "colorbar": {
              "outlinewidth": 0,
              "ticks": ""
             }
            },
            "type": "parcoords"
           }
          ],
          "pie": [
           {
            "automargin": true,
            "type": "pie"
           }
          ],
          "scatter": [
           {
            "marker": {
             "colorbar": {
              "outlinewidth": 0,
              "ticks": ""
             }
            },
            "type": "scatter"
           }
          ],
          "scatter3d": [
           {
            "line": {
             "colorbar": {
              "outlinewidth": 0,
              "ticks": ""
             }
            },
            "marker": {
             "colorbar": {
              "outlinewidth": 0,
              "ticks": ""
             }
            },
            "type": "scatter3d"
           }
          ],
          "scattercarpet": [
           {
            "marker": {
             "colorbar": {
              "outlinewidth": 0,
              "ticks": ""
             }
            },
            "type": "scattercarpet"
           }
          ],
          "scattergeo": [
           {
            "marker": {
             "colorbar": {
              "outlinewidth": 0,
              "ticks": ""
             }
            },
            "type": "scattergeo"
           }
          ],
          "scattergl": [
           {
            "marker": {
             "colorbar": {
              "outlinewidth": 0,
              "ticks": ""
             }
            },
            "type": "scattergl"
           }
          ],
          "scattermapbox": [
           {
            "marker": {
             "colorbar": {
              "outlinewidth": 0,
              "ticks": ""
             }
            },
            "type": "scattermapbox"
           }
          ],
          "scatterpolar": [
           {
            "marker": {
             "colorbar": {
              "outlinewidth": 0,
              "ticks": ""
             }
            },
            "type": "scatterpolar"
           }
          ],
          "scatterpolargl": [
           {
            "marker": {
             "colorbar": {
              "outlinewidth": 0,
              "ticks": ""
             }
            },
            "type": "scatterpolargl"
           }
          ],
          "scatterternary": [
           {
            "marker": {
             "colorbar": {
              "outlinewidth": 0,
              "ticks": ""
             }
            },
            "type": "scatterternary"
           }
          ],
          "surface": [
           {
            "colorbar": {
             "outlinewidth": 0,
             "ticks": ""
            },
            "colorscale": [
             [
              0,
              "#0d0887"
             ],
             [
              0.1111111111111111,
              "#46039f"
             ],
             [
              0.2222222222222222,
              "#7201a8"
             ],
             [
              0.3333333333333333,
              "#9c179e"
             ],
             [
              0.4444444444444444,
              "#bd3786"
             ],
             [
              0.5555555555555556,
              "#d8576b"
             ],
             [
              0.6666666666666666,
              "#ed7953"
             ],
             [
              0.7777777777777778,
              "#fb9f3a"
             ],
             [
              0.8888888888888888,
              "#fdca26"
             ],
             [
              1,
              "#f0f921"
             ]
            ],
            "type": "surface"
           }
          ],
          "table": [
           {
            "cells": {
             "fill": {
              "color": "#EBF0F8"
             },
             "line": {
              "color": "white"
             }
            },
            "header": {
             "fill": {
              "color": "#C8D4E3"
             },
             "line": {
              "color": "white"
             }
            },
            "type": "table"
           }
          ]
         },
         "layout": {
          "annotationdefaults": {
           "arrowcolor": "#2a3f5f",
           "arrowhead": 0,
           "arrowwidth": 1
          },
          "autotypenumbers": "strict",
          "coloraxis": {
           "colorbar": {
            "outlinewidth": 0,
            "ticks": ""
           }
          },
          "colorscale": {
           "diverging": [
            [
             0,
             "#8e0152"
            ],
            [
             0.1,
             "#c51b7d"
            ],
            [
             0.2,
             "#de77ae"
            ],
            [
             0.3,
             "#f1b6da"
            ],
            [
             0.4,
             "#fde0ef"
            ],
            [
             0.5,
             "#f7f7f7"
            ],
            [
             0.6,
             "#e6f5d0"
            ],
            [
             0.7,
             "#b8e186"
            ],
            [
             0.8,
             "#7fbc41"
            ],
            [
             0.9,
             "#4d9221"
            ],
            [
             1,
             "#276419"
            ]
           ],
           "sequential": [
            [
             0,
             "#0d0887"
            ],
            [
             0.1111111111111111,
             "#46039f"
            ],
            [
             0.2222222222222222,
             "#7201a8"
            ],
            [
             0.3333333333333333,
             "#9c179e"
            ],
            [
             0.4444444444444444,
             "#bd3786"
            ],
            [
             0.5555555555555556,
             "#d8576b"
            ],
            [
             0.6666666666666666,
             "#ed7953"
            ],
            [
             0.7777777777777778,
             "#fb9f3a"
            ],
            [
             0.8888888888888888,
             "#fdca26"
            ],
            [
             1,
             "#f0f921"
            ]
           ],
           "sequentialminus": [
            [
             0,
             "#0d0887"
            ],
            [
             0.1111111111111111,
             "#46039f"
            ],
            [
             0.2222222222222222,
             "#7201a8"
            ],
            [
             0.3333333333333333,
             "#9c179e"
            ],
            [
             0.4444444444444444,
             "#bd3786"
            ],
            [
             0.5555555555555556,
             "#d8576b"
            ],
            [
             0.6666666666666666,
             "#ed7953"
            ],
            [
             0.7777777777777778,
             "#fb9f3a"
            ],
            [
             0.8888888888888888,
             "#fdca26"
            ],
            [
             1,
             "#f0f921"
            ]
           ]
          },
          "colorway": [
           "#636efa",
           "#EF553B",
           "#00cc96",
           "#ab63fa",
           "#FFA15A",
           "#19d3f3",
           "#FF6692",
           "#B6E880",
           "#FF97FF",
           "#FECB52"
          ],
          "font": {
           "color": "#2a3f5f"
          },
          "geo": {
           "bgcolor": "white",
           "lakecolor": "white",
           "landcolor": "#E5ECF6",
           "showlakes": true,
           "showland": true,
           "subunitcolor": "white"
          },
          "hoverlabel": {
           "align": "left"
          },
          "hovermode": "closest",
          "mapbox": {
           "style": "light"
          },
          "paper_bgcolor": "white",
          "plot_bgcolor": "#E5ECF6",
          "polar": {
           "angularaxis": {
            "gridcolor": "white",
            "linecolor": "white",
            "ticks": ""
           },
           "bgcolor": "#E5ECF6",
           "radialaxis": {
            "gridcolor": "white",
            "linecolor": "white",
            "ticks": ""
           }
          },
          "scene": {
           "xaxis": {
            "backgroundcolor": "#E5ECF6",
            "gridcolor": "white",
            "gridwidth": 2,
            "linecolor": "white",
            "showbackground": true,
            "ticks": "",
            "zerolinecolor": "white"
           },
           "yaxis": {
            "backgroundcolor": "#E5ECF6",
            "gridcolor": "white",
            "gridwidth": 2,
            "linecolor": "white",
            "showbackground": true,
            "ticks": "",
            "zerolinecolor": "white"
           },
           "zaxis": {
            "backgroundcolor": "#E5ECF6",
            "gridcolor": "white",
            "gridwidth": 2,
            "linecolor": "white",
            "showbackground": true,
            "ticks": "",
            "zerolinecolor": "white"
           }
          },
          "shapedefaults": {
           "line": {
            "color": "#2a3f5f"
           }
          },
          "ternary": {
           "aaxis": {
            "gridcolor": "white",
            "linecolor": "white",
            "ticks": ""
           },
           "baxis": {
            "gridcolor": "white",
            "linecolor": "white",
            "ticks": ""
           },
           "bgcolor": "#E5ECF6",
           "caxis": {
            "gridcolor": "white",
            "linecolor": "white",
            "ticks": ""
           }
          },
          "title": {
           "x": 0.05
          },
          "xaxis": {
           "automargin": true,
           "gridcolor": "white",
           "linecolor": "white",
           "ticks": "",
           "title": {
            "standoff": 15
           },
           "zerolinecolor": "white",
           "zerolinewidth": 2
          },
          "yaxis": {
           "automargin": true,
           "gridcolor": "white",
           "linecolor": "white",
           "ticks": "",
           "title": {
            "standoff": 15
           },
           "zerolinecolor": "white",
           "zerolinewidth": 2
          }
         }
        },
        "title": {
         "text": "World GDP v.s. CO2 Emissions Data 2019"
        },
        "xaxis": {
         "title": {
          "text": "GDP"
         }
        },
        "yaxis": {
         "title": {
          "text": "CO2 Emissions"
         }
        }
       }
      },
      "text/html": [
       "<div>                            <div id=\"795828f0-5400-4570-a110-0aef899ac955\" class=\"plotly-graph-div\" style=\"height:525px; width:100%;\"></div>            <script type=\"text/javascript\">                require([\"plotly\"], function(Plotly) {                    window.PLOTLYENV=window.PLOTLYENV || {};                                    if (document.getElementById(\"795828f0-5400-4570-a110-0aef899ac955\")) {                    Plotly.newPlot(                        \"795828f0-5400-4570-a110-0aef899ac955\",                        [{\"hovertemplate\":\"Country: %{text}<br>GDP: Billion %{x}$ PPP<br>CO2 Emissions: %{y} MMtonnes\",\"marker\":{\"color\":[0,1,2,3,4,5,6,7,8,9,10,11,12,13,14,15,16,17,18,19,20,21,22,23,24,25,26,27,28,29,30,31,32,33,34,35,36,37,38,39,40,41,42,43,44,45,46,47,48,49,50,51,52,53,54,55,56,57,58,59,60,61,62,63,64,65,66,67,68,69,70,71,72,73,74,75,76,77,78,79,80,81,82,83,84,85,86,87,88,89,90,91,92,93,94,95,96,97,98,99,100,101,102,103,104,105,106,107,108,109,110,111,112,113,114,115,116,117,118,119,120,121,122,123,124,125,126,127,128,129,130,131,132,133,134,135,136,137,138,139,140,141,142,143,144,145,146,147,148,149,150,151,152,153,154,155,156,157,158,159,160,161,162,163,164,165,166,167,168,169,170,171,172,173,174,175,176,177,178,179,180,181,182,183,184,185,186,187,188,189,190,191,192,193,194,195,196,197,198,199],\"colorscale\":[[0.0,\"rgb(150,0,90)\"],[0.125,\"rgb(0,0,200)\"],[0.25,\"rgb(0,25,255)\"],[0.375,\"rgb(0,152,255)\"],[0.5,\"rgb(44,255,150)\"],[0.625,\"rgb(151,255,0)\"],[0.75,\"rgb(255,234,0)\"],[0.875,\"rgb(255,111,0)\"],[1.0,\"rgb(255,0,0)\"]],\"size\":10},\"mode\":\"markers\",\"name\":\"Data\",\"text\":[\"Afghanistan\",\"Albania\",\"Algeria\",\"Angola\",\"Antigua and Barbuda\",\"Argentina\",\"Armenia\",\"Aruba\",\"Australia\",\"Austria\",\"Azerbaijan\",\"Bahrain\",\"Bangladesh\",\"Barbados\",\"Belarus\",\"Belgium\",\"Belize\",\"Benin\",\"Bermuda\",\"Bhutan\",\"Bolivia\",\"Bosnia and Herzegovina\",\"Botswana\",\"Brazil\",\"British Virgin Islands\",\"Brunei\",\"Bulgaria\",\"Burkina Faso\",\"Burma\",\"Burundi\",\"Cabo Verde\",\"Cambodia\",\"Cameroon\",\"Canada\",\"Cayman Islands\",\"Central African Republic\",\"Chad\",\"Chile\",\"China\",\"Colombia\",\"Comoros\",\"Congo-Brazzaville\",\"Congo-Kinshasa\",\"Costa Rica\",\"Croatia\",\"Cuba\",\"Cyprus\",\"Czech Republic\",\"C\\u00f4te d\\u2019Ivoire\",\"Denmark\",\"Djibouti\",\"Dominica\",\"Dominican Republic\",\"Ecuador\",\"Egypt\",\"El Salvador\",\"Equatorial Guinea\",\"Eritrea\",\"Estonia\",\"Eswatini\",\"Ethiopia\",\"Fiji\",\"Finland\",\"France\",\"Gabon\",\"Gambia, The\",\"Georgia\",\"Germany\",\"Ghana\",\"Greece\",\"Greenland\",\"Grenada\",\"Guadeloupe\",\"Guatemala\",\"Guinea\",\"Guinea-Bissau\",\"Guyana\",\"Haiti\",\"Honduras\",\"Hong Kong\",\"Hungary\",\"Iceland\",\"India\",\"Indonesia\",\"Iran\",\"Iraq\",\"Ireland\",\"Israel\",\"Italy\",\"Jamaica\",\"Japan\",\"Jordan\",\"Kazakhstan\",\"Kenya\",\"Kiribati\",\"Kosovo\",\"Kuwait\",\"Kyrgyzstan\",\"Laos\",\"Latvia\",\"Lebanon\",\"Lesotho\",\"Liberia\",\"Libya\",\"Lithuania\",\"Luxembourg\",\"Macau\",\"Madagascar\",\"Malawi\",\"Malaysia\",\"Maldives\",\"Mali\",\"Malta\",\"Martinique\",\"Mauritania\",\"Mauritius\",\"Mexico\",\"Moldova\",\"Mongolia\",\"Montenegro\",\"Morocco\",\"Mozambique\",\"Namibia\",\"Nepal\",\"Netherlands\",\"Netherlands Antilles\",\"New Zealand\",\"Nicaragua\",\"Niger\",\"Nigeria\",\"North Korea\",\"North Macedonia\",\"Norway\",\"Oman\",\"Pakistan\",\"Palestinian Territories\",\"Panama\",\"Papua New Guinea\",\"Paraguay\",\"Peru\",\"Philippines\",\"Poland\",\"Portugal\",\"Puerto Rico\",\"Qatar\",\"Reunion\",\"Romania\",\"Russia\",\"Rwanda\",\"Saint Kitts and Nevis\",\"Saint Lucia\",\"Saint Vincent/Grenadines\",\"Samoa\",\"Sao Tome and Principe\",\"Saudi Arabia\",\"Senegal\",\"Serbia\",\"Seychelles\",\"Sierra Leone\",\"Singapore\",\"Slovakia\",\"Slovenia\",\"Solomon Islands\",\"Somalia\",\"South Africa\",\"South Korea\",\"South Sudan\",\"Spain\",\"Sri Lanka\",\"Sudan\",\"Suriname\",\"Sweden\",\"Switzerland\",\"Syria\",\"Taiwan\",\"Tajikistan\",\"Tanzania\",\"Thailand\",\"The Bahamas\",\"Timor-Leste\",\"Togo\",\"Tonga\",\"Trinidad and Tobago\",\"Tunisia\",\"Turkey\",\"Turkmenistan\",\"U.S. Virgin Islands\",\"Uganda\",\"Ukraine\",\"United Arab Emirates\",\"United Kingdom\",\"United States\",\"Uruguay\",\"Uzbekistan\",\"Vanuatu\",\"Venezuela\",\"Vietnam\",\"Yemen\",\"Zambia\",\"Zimbabwe\"],\"x\":[79.4546,38.2684,509.066,193.826,2.12893,833.501,35.5628,3.20784,1226.586,467.708,145.705,70.4457,798.113,4.52673,178.892,557.634,2.78824,38.0152,6.64648,8.10603,89.7455,47.1135,36.97997,3041.299,1.44981,26.6516,149.2549,39.3968,275.791,8.84175,3.77316,69.1922,88.9149,1737.87,3.77842,4.13773,24.9406,439.69,23128.34,690.987,2.384,17.937,80.9978,94.3605,110.2903,152.228,33.8259,410.036,141.232,308.2223,5.84841,0.802973,190.149,183.665,1291.81,52.962,21.3042,6.02485,45.198,10.5029,231.935,12.1234,252.9957,2918.618,30.7828,5.2609,53.4418,4182.05,183.3466,300.5935,5.17249,1.78501,10.8742,144.896,28.567,3.63339,10.1827,31.908,51.0377,441.164,309.9521,19.3761,9310.29,3227.667,1099.27,426.217,416.234,349.752,2340.371,26.7529,5359.05,94.7813,464.79,211.4738,0.234263,20.2266,180.991,29.7684,53.3016,55.5939,92.4576,6.32009,5.60223,84.2519,97.4069,66.2214,79.3202,43.6525,28.3955,908.76,10.0602,43.3564,21.5613,7.25285,19.2667,27.95627,2384.142,30.9415,39.254,11.9806,275.648,38.10749,24.41,101.266,934.921,2.80876,198.6641,33.5562,28.87,1015.889,43.1394,31.7368,330.2825,141.208,1039.88,14.0824,118.865,32.4518,86.3046,402.28,949.711,1217.987,342.6999,66.9118,247.046,24.8272,522.905,3770.42,27.008,1.36317,2.71244,1.34094,1.09107,1.06389,1771.04,54.8701,121.686,2.532797,13.8469,545.403,181.3875,76.4882,1.54738,10.8476,785.223,2160.64,17.3349,1796.293,276.987,187.629,9.20889,524.62,590.958,53.6025,1232.274,35.11,153.3535,1248.417,13.643,4.05685,16.8355,0.574064,33.9752,122.68,2338.015,110.936,1.883,103.1059,487.698,663.292,2992.817,19925.43,78.0812,257.435,0.761102,190.1472,915.504,53.0838,247.1819,37.6204],\"y\":[9.391163087,4.031301559,145.987969135,17.644576606,0.7348894,191.358658271,5.976457104,1.20493081,410.865148205,63.844027897,33.285637886,39.014442502,90.78163083,1.702104465,56.523597698,132.279624636,0.577712955,7.736424191,0.797279806,0.967306365,18.335565837,17.266938088,6.188921367,453.443272227,0.216635316,10.22519768,41.542759685,4.391342618,32.968880216,0.67983302,1.001529634,11.890895952,7.245713401,613.089866972,0.667298,0.278282,1.7162899,86.874650457,10608.600386434,75.94596771,0.301926504,4.4339781,2.641757936,7.923880021,17.147887659,22.496372604,8.226035335,104.272224724,10.798183713,36.120050677,0.67469826,0.185983702,25.265246857,37.349371309,235.494498177,7.04650887,4.669231827,0.74245581,5.509905901,1.203506529,14.060422857,1.649180054,44.65256288,341.980653833,3.278674777,0.5941987,9.84778636,781.596225481,17.630249841,73.672821577,0.612110253,0.317136381,1.90047837,19.708437412,2.980732599,0.341846886,2.321942783,3.457576199,10.050869894,97.454364217,49.473804477,3.871221764,2308.332020002,529.404672898,642.964293906,154.661243618,37.056083624,64.594443709,339.577060466,8.071670366,1140.949687525,24.328952101,269.713173947,18.746653189,0.07528207,7.7258036,92.889166266,9.123794565,29.94530902,7.87244579,25.478354557,0.71763765,1.34566552,39.866451985,14.25507877,11.169565111,2.013405144,3.391414709,1.508163994,247.428983914,2.036072914,5.257908981,9.191731982,2.24158345,3.87875476,6.938191586,456.148338455,7.975804163,20.901836824,2.524134994,59.02569629,7.785808405,3.90852628,8.30706762,216.830355385,14.496783,38.962262785,5.027809,2.276804081,101.193925365,20.153995305,6.539300393,38.055784902,75.869640578,192.896993866,3.277635491,26.79318633,6.323287075,8.338166715,52.918496178,135.216311732,319.670314026,53.518320981,20.150917372,105.34120271,2.722415119,73.684118621,1798.242238512,1.10937668,0.268462136,0.451661075,0.2392802,0.324490111,0.158288716,567.98859898,9.558694385,47.041072192,1.1521043,0.985050284,244.056494874,34.50052687,14.248656405,0.338062091,0.882390681,455.448598942,702.961082317,1.675889,293.779473717,22.809417184,18.36376,2.314032735,47.079863482,38.8391437,30.957562784,283.193662206,6.870917512,11.481377071,303.667169932,3.982675282,0.53420808,2.255794107,0.150016259,40.485352133,25.326405225,397.800544326,97.306322119,2.438125286,5.866205464,202.513341064,274.042277491,411.167847675,5277.192754,7.311541742,99.389348903,0.234325792,131.48505504,241.806422052,8.292505229,7.09628982,8.964759021],\"type\":\"scatter\"},{\"line\":{\"color\":\"red\"},\"mode\":\"lines\",\"name\":\"Line of Best Fit\",\"x\":[79.4546,38.2684,509.066,193.826,2.12893,833.501,35.5628,3.20784,1226.586,467.708,145.705,70.4457,798.113,4.52673,178.892,557.634,2.78824,38.0152,6.64648,8.10603,89.7455,47.1135,36.97997,3041.299,1.44981,26.6516,149.2549,39.3968,275.791,8.84175,3.77316,69.1922,88.9149,1737.87,3.77842,4.13773,24.9406,439.69,23128.34,690.987,2.384,17.937,80.9978,94.3605,110.2903,152.228,33.8259,410.036,141.232,308.2223,5.84841,0.802973,190.149,183.665,1291.81,52.962,21.3042,6.02485,45.198,10.5029,231.935,12.1234,252.9957,2918.618,30.7828,5.2609,53.4418,4182.05,183.3466,300.5935,5.17249,1.78501,10.8742,144.896,28.567,3.63339,10.1827,31.908,51.0377,441.164,309.9521,19.3761,9310.29,3227.667,1099.27,426.217,416.234,349.752,2340.371,26.7529,5359.05,94.7813,464.79,211.4738,0.234263,20.2266,180.991,29.7684,53.3016,55.5939,92.4576,6.32009,5.60223,84.2519,97.4069,66.2214,79.3202,43.6525,28.3955,908.76,10.0602,43.3564,21.5613,7.25285,19.2667,27.95627,2384.142,30.9415,39.254,11.9806,275.648,38.10749,24.41,101.266,934.921,2.80876,198.6641,33.5562,28.87,1015.889,43.1394,31.7368,330.2825,141.208,1039.88,14.0824,118.865,32.4518,86.3046,402.28,949.711,1217.987,342.6999,66.9118,247.046,24.8272,522.905,3770.42,27.008,1.36317,2.71244,1.34094,1.09107,1.06389,1771.04,54.8701,121.686,2.532797,13.8469,545.403,181.3875,76.4882,1.54738,10.8476,785.223,2160.64,17.3349,1796.293,276.987,187.629,9.20889,524.62,590.958,53.6025,1232.274,35.11,153.3535,1248.417,13.643,4.05685,16.8355,0.574064,33.9752,122.68,2338.015,110.936,1.883,103.1059,487.698,663.292,2992.817,19925.43,78.0812,257.435,0.761102,190.1472,915.504,53.0838,247.1819,37.6204],\"y\":[-19.203236880087594,-33.71725822110741,132.19186701260946,21.101256867874433,-46.45281136349844,246.5227961532868,-34.6707119541603,-46.07260336263796,385.0459927296832,117.61730333298144,4.143411255722448,-22.37797421587272,234.05206112029012,-45.60782638378443,15.838513650321225,149.3072354731776,-46.22047044808629,-33.806485928532375,-44.86082625418697,-44.34648067609806,-15.576722605444608,-30.600244023064025,-34.17130109266172,1024.5510504875265,-46.692133325056275,-37.81101979936321,5.394396400224387,-33.3196099388865,49.98573174578717,-44.08721286840968,-45.873384533406195,-22.81970775164364,-15.869426135409768,565.222529708622,-45.87153090883647,-45.74491002591836,-38.41397638468754,107.74375709825489,8103.226474584433,196.3008471171024,-46.36292466787092,-40.882045783271685,-18.659413032938264,-13.950396105577994,-8.336732860166244,6.442117162251144,-35.28279570228995,97.29368428632756,2.567125571236332,61.414525378533476,-45.14206620862869,-46.92007875391743,19.805481669605847,17.520519367301368,408.03093739432023,-28.539231989592757,-39.6954441385586,-45.07988873351786,-31.27526643053846,-43.50182342848478,34.53087259559208,-42.93075905296281,41.95266555674936,981.318252799523,-36.35518447189864,-45.34910479626393,-28.370150417623957,1426.5518264462141,17.408315172814362,58.72613543223175,-45.38026048983993,-46.5740088087496,-43.370977268267985,3.858319568096846,-37.13603263189961,-45.92263949654517,-43.614661943166745,-35.95866387002434,-29.217355518020348,108.26319485790893,62.02410708589408,-40.374906787397784,3233.7441579036313,1090.2271538736893,340.1798205396467,102.99587043894766,99.47786015765439,76.04959615675895,777.5439473675899,-37.77532166839106,1841.3267539311562,-13.802106139999687,116.58899981692275,27.32034349936871,-47.12049221951638,-40.075190495277184,16.578201477671186,-36.712659141771816,-28.419556912809504,-27.611750144522563,-14.620978271687676,-44.9758461255394,-45.2288200672933,-17.51266784047543,-12.87684441561187,-23.86661799342127,-19.250599454644924,-31.81990079793691,-37.19646925047537,273.0440759048495,-43.65783095643514,-31.924246470008526,-39.604842070711214,-44.647141400508936,-40.41345935924728,-37.35125395004989,792.9688525085783,-36.2992585747093,-33.36993267435366,-42.981081788429975,49.935338530298345,-33.77396292253613,-38.60095988215866,-11.516897157619397,282.26321513843794,-46.2132391978637,22.806203831905783,-35.37783801150209,-37.029255399080625,310.7963471083621,-32.000717293512544,-36.0189947685676,69.18854224795007,2.5586679686368115,319.2507781069104,-42.24040724077675,-5.3150076514108235,-35.76702869112348,-16.789296138140397,94.56046904624836,287.475212740394,382.01570419829574,73.5644353529216,-23.623320958641656,39.85599063231677,-38.453938556970286,137.06873211155943,1281.4933698611446,-37.68542440076029,-46.72266527044055,-46.24718237629645,-46.730499124848365,-46.81855333991265,-46.828131574856606,576.9116413013795,-27.866817342919845,-4.320886945858547,-46.31048858895421,-42.32339746628457,144.99702974839568,16.717928120617465,-20.248596561388638,-46.65774964648813,-43.380351111149125,229.50962372412957,714.2067235003034,-41.094225888487216,585.8108012366192,50.40720227533007,18.91743339665593,-43.95783269264348,137.67309829731704,161.05061668261533,-28.313519720217986,387.05044454577006,-34.83027872320464,6.838743484157938,392.7392394942743,-42.39525184836968,-45.77341214667875,-41.27021450257896,-47.00074631031136,-35.230182366118754,-3.9706012381949662,776.7136927124033,-8.109188110228239,-46.53947712213597,-10.86851619833346,124.66178149816747,186.54112611736113,1007.4659884362734,6974.52064366617,-19.6872231888453,43.517075357585306,-46.93483409885262,19.804847349410885,275.4206622353155,-28.49630965640018,39.90388180703656,-33.94561349129453],\"type\":\"scatter\"}],                        {\"hovermode\":\"closest\",\"template\":{\"data\":{\"barpolar\":[{\"marker\":{\"line\":{\"color\":\"#E5ECF6\",\"width\":0.5},\"pattern\":{\"fillmode\":\"overlay\",\"size\":10,\"solidity\":0.2}},\"type\":\"barpolar\"}],\"bar\":[{\"error_x\":{\"color\":\"#2a3f5f\"},\"error_y\":{\"color\":\"#2a3f5f\"},\"marker\":{\"line\":{\"color\":\"#E5ECF6\",\"width\":0.5},\"pattern\":{\"fillmode\":\"overlay\",\"size\":10,\"solidity\":0.2}},\"type\":\"bar\"}],\"carpet\":[{\"aaxis\":{\"endlinecolor\":\"#2a3f5f\",\"gridcolor\":\"white\",\"linecolor\":\"white\",\"minorgridcolor\":\"white\",\"startlinecolor\":\"#2a3f5f\"},\"baxis\":{\"endlinecolor\":\"#2a3f5f\",\"gridcolor\":\"white\",\"linecolor\":\"white\",\"minorgridcolor\":\"white\",\"startlinecolor\":\"#2a3f5f\"},\"type\":\"carpet\"}],\"choropleth\":[{\"colorbar\":{\"outlinewidth\":0,\"ticks\":\"\"},\"type\":\"choropleth\"}],\"contourcarpet\":[{\"colorbar\":{\"outlinewidth\":0,\"ticks\":\"\"},\"type\":\"contourcarpet\"}],\"contour\":[{\"colorbar\":{\"outlinewidth\":0,\"ticks\":\"\"},\"colorscale\":[[0.0,\"#0d0887\"],[0.1111111111111111,\"#46039f\"],[0.2222222222222222,\"#7201a8\"],[0.3333333333333333,\"#9c179e\"],[0.4444444444444444,\"#bd3786\"],[0.5555555555555556,\"#d8576b\"],[0.6666666666666666,\"#ed7953\"],[0.7777777777777778,\"#fb9f3a\"],[0.8888888888888888,\"#fdca26\"],[1.0,\"#f0f921\"]],\"type\":\"contour\"}],\"heatmapgl\":[{\"colorbar\":{\"outlinewidth\":0,\"ticks\":\"\"},\"colorscale\":[[0.0,\"#0d0887\"],[0.1111111111111111,\"#46039f\"],[0.2222222222222222,\"#7201a8\"],[0.3333333333333333,\"#9c179e\"],[0.4444444444444444,\"#bd3786\"],[0.5555555555555556,\"#d8576b\"],[0.6666666666666666,\"#ed7953\"],[0.7777777777777778,\"#fb9f3a\"],[0.8888888888888888,\"#fdca26\"],[1.0,\"#f0f921\"]],\"type\":\"heatmapgl\"}],\"heatmap\":[{\"colorbar\":{\"outlinewidth\":0,\"ticks\":\"\"},\"colorscale\":[[0.0,\"#0d0887\"],[0.1111111111111111,\"#46039f\"],[0.2222222222222222,\"#7201a8\"],[0.3333333333333333,\"#9c179e\"],[0.4444444444444444,\"#bd3786\"],[0.5555555555555556,\"#d8576b\"],[0.6666666666666666,\"#ed7953\"],[0.7777777777777778,\"#fb9f3a\"],[0.8888888888888888,\"#fdca26\"],[1.0,\"#f0f921\"]],\"type\":\"heatmap\"}],\"histogram2dcontour\":[{\"colorbar\":{\"outlinewidth\":0,\"ticks\":\"\"},\"colorscale\":[[0.0,\"#0d0887\"],[0.1111111111111111,\"#46039f\"],[0.2222222222222222,\"#7201a8\"],[0.3333333333333333,\"#9c179e\"],[0.4444444444444444,\"#bd3786\"],[0.5555555555555556,\"#d8576b\"],[0.6666666666666666,\"#ed7953\"],[0.7777777777777778,\"#fb9f3a\"],[0.8888888888888888,\"#fdca26\"],[1.0,\"#f0f921\"]],\"type\":\"histogram2dcontour\"}],\"histogram2d\":[{\"colorbar\":{\"outlinewidth\":0,\"ticks\":\"\"},\"colorscale\":[[0.0,\"#0d0887\"],[0.1111111111111111,\"#46039f\"],[0.2222222222222222,\"#7201a8\"],[0.3333333333333333,\"#9c179e\"],[0.4444444444444444,\"#bd3786\"],[0.5555555555555556,\"#d8576b\"],[0.6666666666666666,\"#ed7953\"],[0.7777777777777778,\"#fb9f3a\"],[0.8888888888888888,\"#fdca26\"],[1.0,\"#f0f921\"]],\"type\":\"histogram2d\"}],\"histogram\":[{\"marker\":{\"pattern\":{\"fillmode\":\"overlay\",\"size\":10,\"solidity\":0.2}},\"type\":\"histogram\"}],\"mesh3d\":[{\"colorbar\":{\"outlinewidth\":0,\"ticks\":\"\"},\"type\":\"mesh3d\"}],\"parcoords\":[{\"line\":{\"colorbar\":{\"outlinewidth\":0,\"ticks\":\"\"}},\"type\":\"parcoords\"}],\"pie\":[{\"automargin\":true,\"type\":\"pie\"}],\"scatter3d\":[{\"line\":{\"colorbar\":{\"outlinewidth\":0,\"ticks\":\"\"}},\"marker\":{\"colorbar\":{\"outlinewidth\":0,\"ticks\":\"\"}},\"type\":\"scatter3d\"}],\"scattercarpet\":[{\"marker\":{\"colorbar\":{\"outlinewidth\":0,\"ticks\":\"\"}},\"type\":\"scattercarpet\"}],\"scattergeo\":[{\"marker\":{\"colorbar\":{\"outlinewidth\":0,\"ticks\":\"\"}},\"type\":\"scattergeo\"}],\"scattergl\":[{\"marker\":{\"colorbar\":{\"outlinewidth\":0,\"ticks\":\"\"}},\"type\":\"scattergl\"}],\"scattermapbox\":[{\"marker\":{\"colorbar\":{\"outlinewidth\":0,\"ticks\":\"\"}},\"type\":\"scattermapbox\"}],\"scatterpolargl\":[{\"marker\":{\"colorbar\":{\"outlinewidth\":0,\"ticks\":\"\"}},\"type\":\"scatterpolargl\"}],\"scatterpolar\":[{\"marker\":{\"colorbar\":{\"outlinewidth\":0,\"ticks\":\"\"}},\"type\":\"scatterpolar\"}],\"scatter\":[{\"marker\":{\"colorbar\":{\"outlinewidth\":0,\"ticks\":\"\"}},\"type\":\"scatter\"}],\"scatterternary\":[{\"marker\":{\"colorbar\":{\"outlinewidth\":0,\"ticks\":\"\"}},\"type\":\"scatterternary\"}],\"surface\":[{\"colorbar\":{\"outlinewidth\":0,\"ticks\":\"\"},\"colorscale\":[[0.0,\"#0d0887\"],[0.1111111111111111,\"#46039f\"],[0.2222222222222222,\"#7201a8\"],[0.3333333333333333,\"#9c179e\"],[0.4444444444444444,\"#bd3786\"],[0.5555555555555556,\"#d8576b\"],[0.6666666666666666,\"#ed7953\"],[0.7777777777777778,\"#fb9f3a\"],[0.8888888888888888,\"#fdca26\"],[1.0,\"#f0f921\"]],\"type\":\"surface\"}],\"table\":[{\"cells\":{\"fill\":{\"color\":\"#EBF0F8\"},\"line\":{\"color\":\"white\"}},\"header\":{\"fill\":{\"color\":\"#C8D4E3\"},\"line\":{\"color\":\"white\"}},\"type\":\"table\"}]},\"layout\":{\"annotationdefaults\":{\"arrowcolor\":\"#2a3f5f\",\"arrowhead\":0,\"arrowwidth\":1},\"autotypenumbers\":\"strict\",\"coloraxis\":{\"colorbar\":{\"outlinewidth\":0,\"ticks\":\"\"}},\"colorscale\":{\"diverging\":[[0,\"#8e0152\"],[0.1,\"#c51b7d\"],[0.2,\"#de77ae\"],[0.3,\"#f1b6da\"],[0.4,\"#fde0ef\"],[0.5,\"#f7f7f7\"],[0.6,\"#e6f5d0\"],[0.7,\"#b8e186\"],[0.8,\"#7fbc41\"],[0.9,\"#4d9221\"],[1,\"#276419\"]],\"sequential\":[[0.0,\"#0d0887\"],[0.1111111111111111,\"#46039f\"],[0.2222222222222222,\"#7201a8\"],[0.3333333333333333,\"#9c179e\"],[0.4444444444444444,\"#bd3786\"],[0.5555555555555556,\"#d8576b\"],[0.6666666666666666,\"#ed7953\"],[0.7777777777777778,\"#fb9f3a\"],[0.8888888888888888,\"#fdca26\"],[1.0,\"#f0f921\"]],\"sequentialminus\":[[0.0,\"#0d0887\"],[0.1111111111111111,\"#46039f\"],[0.2222222222222222,\"#7201a8\"],[0.3333333333333333,\"#9c179e\"],[0.4444444444444444,\"#bd3786\"],[0.5555555555555556,\"#d8576b\"],[0.6666666666666666,\"#ed7953\"],[0.7777777777777778,\"#fb9f3a\"],[0.8888888888888888,\"#fdca26\"],[1.0,\"#f0f921\"]]},\"colorway\":[\"#636efa\",\"#EF553B\",\"#00cc96\",\"#ab63fa\",\"#FFA15A\",\"#19d3f3\",\"#FF6692\",\"#B6E880\",\"#FF97FF\",\"#FECB52\"],\"font\":{\"color\":\"#2a3f5f\"},\"geo\":{\"bgcolor\":\"white\",\"lakecolor\":\"white\",\"landcolor\":\"#E5ECF6\",\"showlakes\":true,\"showland\":true,\"subunitcolor\":\"white\"},\"hoverlabel\":{\"align\":\"left\"},\"hovermode\":\"closest\",\"mapbox\":{\"style\":\"light\"},\"paper_bgcolor\":\"white\",\"plot_bgcolor\":\"#E5ECF6\",\"polar\":{\"angularaxis\":{\"gridcolor\":\"white\",\"linecolor\":\"white\",\"ticks\":\"\"},\"bgcolor\":\"#E5ECF6\",\"radialaxis\":{\"gridcolor\":\"white\",\"linecolor\":\"white\",\"ticks\":\"\"}},\"scene\":{\"xaxis\":{\"backgroundcolor\":\"#E5ECF6\",\"gridcolor\":\"white\",\"gridwidth\":2,\"linecolor\":\"white\",\"showbackground\":true,\"ticks\":\"\",\"zerolinecolor\":\"white\"},\"yaxis\":{\"backgroundcolor\":\"#E5ECF6\",\"gridcolor\":\"white\",\"gridwidth\":2,\"linecolor\":\"white\",\"showbackground\":true,\"ticks\":\"\",\"zerolinecolor\":\"white\"},\"zaxis\":{\"backgroundcolor\":\"#E5ECF6\",\"gridcolor\":\"white\",\"gridwidth\":2,\"linecolor\":\"white\",\"showbackground\":true,\"ticks\":\"\",\"zerolinecolor\":\"white\"}},\"shapedefaults\":{\"line\":{\"color\":\"#2a3f5f\"}},\"ternary\":{\"aaxis\":{\"gridcolor\":\"white\",\"linecolor\":\"white\",\"ticks\":\"\"},\"baxis\":{\"gridcolor\":\"white\",\"linecolor\":\"white\",\"ticks\":\"\"},\"bgcolor\":\"#E5ECF6\",\"caxis\":{\"gridcolor\":\"white\",\"linecolor\":\"white\",\"ticks\":\"\"}},\"title\":{\"x\":0.05},\"xaxis\":{\"automargin\":true,\"gridcolor\":\"white\",\"linecolor\":\"white\",\"ticks\":\"\",\"title\":{\"standoff\":15},\"zerolinecolor\":\"white\",\"zerolinewidth\":2},\"yaxis\":{\"automargin\":true,\"gridcolor\":\"white\",\"linecolor\":\"white\",\"ticks\":\"\",\"title\":{\"standoff\":15},\"zerolinecolor\":\"white\",\"zerolinewidth\":2}}},\"title\":{\"text\":\"World GDP v.s. CO2 Emissions Data 2019\"},\"xaxis\":{\"title\":{\"text\":\"GDP\"}},\"yaxis\":{\"title\":{\"text\":\"CO2 Emissions\"}}},                        {\"responsive\": true}                    ).then(function(){\n",
       "                            \n",
       "var gd = document.getElementById('795828f0-5400-4570-a110-0aef899ac955');\n",
       "var x = new MutationObserver(function (mutations, observer) {{\n",
       "        var display = window.getComputedStyle(gd).display;\n",
       "        if (!display || display === 'none') {{\n",
       "            console.log([gd, 'removed!']);\n",
       "            Plotly.purge(gd);\n",
       "            observer.disconnect();\n",
       "        }}\n",
       "}});\n",
       "\n",
       "// Listen for the removal of the full notebook cells\n",
       "var notebookContainer = gd.closest('#notebook-container');\n",
       "if (notebookContainer) {{\n",
       "    x.observe(notebookContainer, {childList: true});\n",
       "}}\n",
       "\n",
       "// Listen for the clearing of the current output cell\n",
       "var outputEl = gd.closest('.output');\n",
       "if (outputEl) {{\n",
       "    x.observe(outputEl, {childList: true});\n",
       "}}\n",
       "\n",
       "                        })                };                });            </script>        </div>"
      ]
     },
     "metadata": {},
     "output_type": "display_data"
    }
   ],
   "source": [
    "import plotly.offline as pyo\n",
    "import plotly.graph_objs as go\n",
    "import numpy as np\n",
    "from scipy import stats\n",
    "# enable Plotly notebook mode\n",
    "pyo.init_notebook_mode(connected=True)\n",
    "# create some random data with country names\n",
    "np.random.seed(1)\n",
    "x = x_list\n",
    "y = y_list\n",
    "# create a scatter plot with a line of best fit\n",
    "trace = go.Scatter(\n",
    "    x=x,\n",
    "    y=y,\n",
    "    mode='markers',\n",
    "    name='Data',\n",
    "    text=c_list, # add country metadata to each data point\n",
    "    marker=dict(size=10, color=np.arange(len(c_list)), colorscale='Rainbow'),# adjust marker size for better visibility\n",
    "    hovertemplate = 'Country: %{text}<br>GDP: Billion %{x}$ PPP<br>CO2 Emissions: %{y} MMtonnes'\n",
    ")\n",
    "line = go.Scatter(x=x, y=np.poly1d(np.polyfit(x, y, 1))(x), mode='lines', name='Line of Best Fit', line=dict(color='red'))\n",
    "data = [trace, line]\n",
    "layout = go.Layout(title=\"World GDP v.s. CO2 Emissions Data 2019\", hovermode='closest', xaxis_title = 'GDP', yaxis_title='CO2 Emissions', ) # enable hover mode for better metadata display\n",
    "fig = go.Figure(data=data, layout=layout)\n",
    "\n",
    "\n",
    "# Calculate Regression Stats\n",
    "slope, intercept, r_value, p_value, std_err = stats.linregress(x,y)\n",
    "r_squared = r_value**2\n",
    "print(r_squared)\n",
    "\n",
    "\n",
    "# display the Plotly figure in the notebook\n",
    "pyo.iplot(fig)"
   ]
  },
  {
   "attachments": {},
   "cell_type": "markdown",
   "metadata": {},
   "source": [
    "# Analysis \n",
    "*Linear Regressions statistics:* \n",
    "- CO2 Emissions = 0.3524*GDP - 47.203\n",
    "- R^2 = 0.907262\n",
    "\n",
    "An r^2 value of approximately 0.91 indicates a very strong, positive correlation between Grodd DOmestic Product (GDP) and carbon dioxide emissions (CO2 Emissions). This means that as a country's GDP increases, its COS emissions tend to increase as well. \n",
    "\n",
    "However, strong correlation does not necessarily imply causation. While the data suggests that a strong correlation exists between GDP and CO2 emissions of a country, many other factors such as a country's level of industrialization and energy mix could impact both factors. "
   ]
  },
  {
   "attachments": {},
   "cell_type": "markdown",
   "metadata": {},
   "source": [
    "# Conclusion, Final Remarks\n",
    "\n",
    "Nonetheless, the strong correlation between GDP and CO2 emissions highlights the need for effectve climate policies that address the impact of economic growth on the earth. If left unaddressed, CO2 emissions are likely to cause devastatin gimpacts on human populations, ecosystems, and even economies. \n",
    "\n",
    "Therefore, policymakers must prioritize developing and implementing strategies to reduce carbon emissions while promoting sustainable economic growth. Measures could include transitioning to renewable energy sources (solar, hydro), promoting energy efficiency, and investing in low-carbon infrastructure. \n",
    "\n",
    "**By taking action to address the relationship between GDP and CO2 emissions, we can work towards awareness, and a more sustainable future.**"
   ]
  }
 ],
 "metadata": {
  "kernelspec": {
   "display_name": "base",
   "language": "python",
   "name": "python3"
  },
  "language_info": {
   "codemirror_mode": {
    "name": "ipython",
    "version": 3
   },
   "file_extension": ".py",
   "mimetype": "text/x-python",
   "name": "python",
   "nbconvert_exporter": "python",
   "pygments_lexer": "ipython3",
   "version": "3.9.12"
  },
  "orig_nbformat": 4
 },
 "nbformat": 4,
 "nbformat_minor": 2
}
