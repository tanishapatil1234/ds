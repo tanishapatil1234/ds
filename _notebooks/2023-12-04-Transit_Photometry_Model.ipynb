{
  "nbformat": 4,
  "nbformat_minor": 0,
  "metadata": {
    "accelerator": "GPU",
    "colab": {
      "provenance": []
    },
    "kernelspec": {
      "display_name": "Python 3",
      "name": "python3"
    },
    "gpuClass": "standard"
  },
  "cells": [
    {
      "cell_type": "code",
      "metadata": {
        "id": "PjzYKqcweS2F",
        "colab": {
          "base_uri": "https://localhost:8080/"
        },
        "outputId": "d69ee5d5-2f8c-4c5c-c594-ab049a0dc517"
      },
      "source": [
        "%tensorflow_version 2.x\n",
        "!wget -q --show-progress 'https://storage.googleapis.com/inspirit-ai-data-bucket-1/Data/AI%20Scholars/Sessions%206%20-%2010%20(Projects)/Project%20-%20Planet%20Hunters/exoTrain.csv'\n",
        "!wget -q --show-progress 'https://storage.googleapis.com/inspirit-ai-data-bucket-1/Data/AI%20Scholars/Sessions%206%20-%2010%20(Projects)/Project%20-%20Planet%20Hunters/exoTest.csv'\n",
        "\n",
        "from urllib.request import urlretrieve\n",
        "from pathlib import Path\n",
        "import matplotlib.pyplot as plt\n",
        "import numpy as np\n",
        "import pandas as pd\n",
        "import seaborn as sns\n",
        "\n",
        "import warnings\n",
        "warnings.filterwarnings('ignore')\n",
        "\n",
        "import torch\n",
        "import torch.nn as nn\n",
        "import torch.nn.functional as F\n",
        "\n",
        "from sklearn.neural_network import MLPClassifier\n",
        "\n",
        "from sklearn.neighbors import KNeighborsClassifier\n",
        "from sklearn.ensemble import RandomForestClassifier\n",
        "from sklearn.linear_model import LogisticRegression\n",
        "from sklearn.metrics import confusion_matrix\n",
        "from sklearn.cluster import KMeans\n",
        "from sklearn import  metrics\n",
        "from sklearn import tree\n",
        "from sklearn.model_selection import train_test_split\n",
        "from imblearn.over_sampling import SMOTE\n",
        "from scipy.signal import savgol_filter\n",
        "from sklearn.metrics import classification_report\n",
        "from sklearn.metrics import accuracy_score,plot_confusion_matrix,precision_score,recall_score,f1_score\n",
        "from sklearn.preprocessing import MinMaxScaler, StandardScaler, RobustScaler, normalize\n",
        "\n",
        "import tensorflow as tf\n",
        "import keras\n",
        "from keras.models import Sequential\n",
        "from keras.layers import Activation, Dropout, Flatten, Dense\n",
        "from keras import optimizers\n",
        "from tensorflow.keras.utils import to_categorical\n",
        "from tensorflow.keras.optimizers import Adam, SGD\n",
        "from keras.layers import Dense, Dropout, Activation, Flatten\n",
        "from keras.layers import Conv1D, Conv2D, MaxPooling2D, BatchNormalization, MaxPooling1D\n",
        "from keras.losses import categorical_crossentropy\n",
        "from keras.regularizers import l2\n",
        "from keras.callbacks import EarlyStopping, ModelCheckpoint\n",
        "from keras.models import load_model\n",
        "\n",
        "df_train = pd.read_csv('exoTrain.csv')\n",
        "df_train.LABEL = df_train.LABEL -1\n",
        "df_test = pd.read_csv('exoTest.csv')\n",
        "df_test.LABEL = df_test.LABEL - 1\n",
        "\n",
        "def plot_graphs(history, best):\n",
        "\n",
        "  plt.figure(figsize=[10,4])\n",
        "  # summarize history for accuracy\n",
        "  plt.subplot(121)\n",
        "  plt.plot(history.history['accuracy'])\n",
        "  plt.plot(history.history['val_accuracy'])\n",
        "  plt.title('model accuracy across training\\n best accuracy of %.02f'%best[1])\n",
        "  plt.ylabel('accuracy')\n",
        "  plt.xlabel('epoch')\n",
        "  plt.legend(['train', 'test'], loc='upper left')\n",
        "\n",
        "  # summarize history for loss\n",
        "  plt.subplot(122)\n",
        "  plt.plot(history.history['loss'])\n",
        "  plt.plot(history.history['val_loss'])\n",
        "  plt.title('model loss across training\\n best loss of %.02f'%best[0])\n",
        "  plt.ylabel('loss')\n",
        "  plt.xlabel('epoch')\n",
        "  plt.legend(['train', 'test'], loc='upper left')\n",
        "  plt.show()\n",
        "\n",
        "def analyze_results(model, train_X, train_y, test_X, test_y):\n",
        "    \"\"\"\n",
        "    Helper function to help interpret and model performance.\n",
        "\n",
        "    Args:\n",
        "    model: estimator instance\n",
        "    train_X: {array-like, sparse matrix} of shape (n_samples, n_features)\n",
        "    Input values for model training.\n",
        "    train_y : array-like of shape (n_samples,)\n",
        "    Target values for model training.\n",
        "    test_X: {array-like, sparse matrix} of shape (n_samples, n_features)\n",
        "    Input values for model testing.\n",
        "    test_y : array-like of shape (n_samples,)\n",
        "    Target values for model testing.\n",
        "\n",
        "    Returns:\n",
        "    None\n",
        "    \"\"\"\n",
        "    print(\"-------------------------------------------\")\n",
        "    print(\"Model Results\")\n",
        "    print(\"\")\n",
        "    print(\"Training:\")\n",
        "    if type(model) == keras.engine.sequential.Sequential:\n",
        "      train_predictions = model.predict(train_X)\n",
        "      train_predictions = (train_predictions > 0.5)\n",
        "      cm = confusion_matrix(train_y, train_predictions)\n",
        "      labels = [0, 1]\n",
        "      df_cm = pd.DataFrame(cm,index = labels,columns = labels)\n",
        "      fig = plt.figure()\n",
        "      res = sns.heatmap(df_cm, annot=True,cmap='Blues', fmt='g')\n",
        "      #plt.yticks([1.25, 3.75], labels,va='center')\n",
        "      plt.title('Confusion Matrix - TestData')\n",
        "      plt.ylabel('True label')\n",
        "      plt.xlabel('Predicted label')\n",
        "      plt.show()\n",
        "    else:\n",
        "      fig = plt.figure(figsize=(22,7))\n",
        "      ax = fig.add_subplot(1,3,1)\n",
        "      plot_confusion_matrix(model,train_X,train_y,ax=ax,values_format = '.0f')\n",
        "      plt.show()\n",
        "    print(\"Testing:\")\n",
        "    if type(model) == keras.engine.sequential.Sequential:\n",
        "      test_predictions = model.predict(test_X)\n",
        "      test_predictions = (test_predictions > 0.5)\n",
        "      cm = confusion_matrix(test_y, test_predictions)\n",
        "      labels = [0, 1]\n",
        "      df_cm = pd.DataFrame(cm,index = labels,columns = labels)\n",
        "      fig = plt.figure()\n",
        "      res = sns.heatmap(df_cm, annot=True,cmap='Blues', fmt='g')\n",
        "      #plt.yticks([1.25, 3.75], labels,va='center')\n",
        "      plt.title('Confusion Matrix - TestData')\n",
        "      plt.ylabel('True label')\n",
        "      plt.xlabel('Predicted label')\n",
        "      plt.show()\n",
        "    else:\n",
        "      fig = plt.figure(figsize=(22,7))\n",
        "      ax = fig.add_subplot(1,3,1)\n",
        "      plot_confusion_matrix(model,test_X,test_y,ax=ax,values_format = '.0f')\n",
        "      plt.show()\n",
        "\n",
        "def reset(train,test):\n",
        "    train_X = train.drop('LABEL', axis=1)\n",
        "    train_y = train['LABEL'].values\n",
        "    test_X = test.drop('LABEL', axis=1)\n",
        "    test_y = test['LABEL'].values\n",
        "    return train_X,train_y,test_X,test_y\n",
        "\n",
        "train_X,train_y,test_X,test_y = reset(df_train, df_test)"
      ],
      "execution_count": null,
      "outputs": [
        {
          "output_type": "stream",
          "name": "stdout",
          "text": [
            "Colab only includes TensorFlow 2.x; %tensorflow_version has no effect.\n",
            "exoTrain.csv        100%[===================>] 250.08M   198MB/s    in 1.3s    \n",
            "exoTest.csv         100%[===================>]  27.57M  --.-KB/s    in 0.1s    \n"
          ]
        }
      ]
    },
    {
      "cell_type": "code",
      "metadata": {
        "id": "6yRtFD1pYP7d"
      },
      "source": [
        "# Helper functions that we can run for the three augmentation functions that will be used, but not explroed in depth\n",
        "\n",
        "def smote(a,b):\n",
        "    model = SMOTE()\n",
        "    X,y = model.fit_resample(a, b)\n",
        "    return X,y\n",
        "\n",
        "def savgol(df1,df2):\n",
        "    x = savgol_filter(df1,21,4,deriv=0)\n",
        "    y = savgol_filter(df2,21,4,deriv=0)\n",
        "    return x,y\n",
        "\n",
        "def fourier(df1,df2):\n",
        "    train_X = np.abs(np.fft.fft(df1, axis=1))\n",
        "    test_X = np.abs(np.fft.fft(df2, axis=1))\n",
        "    return train_X,test_X\n",
        "\n",
        "def norm(df1,df2):\n",
        "    train_X = normalize(df1)\n",
        "    test_X = normalize(df2)\n",
        "    return train_X,test_X\n",
        "\n",
        "def robust(df1,df2):\n",
        "    scaler = RobustScaler()\n",
        "    train_X = scaler.fit_transform(df1)\n",
        "    test_X = scaler.transform(df2)\n",
        "    return train_X,test_X\n",
        "\n",
        "fourier_train_X, fourier_test_X = fourier(train_X, test_X)\n",
        "savgol_train_X, savgol_test_X = savgol(fourier_train_X, fourier_test_X)\n",
        "norm_train_X, norm_test_X = norm(savgol_train_X,savgol_test_X)\n",
        "robust_train_X, robust_test_X = robust(norm_train_X, norm_test_X)\n",
        "smote_train_X,smote_train_y = smote(robust_train_X, train_y)\n",
        "\n",
        "# Here we're adding the generated, augmented data onto the testing data\n",
        "aug_train_X, new_X_test_data, aug_train_y, new_y_test_data = train_test_split(smote_train_X, smote_train_y, test_size=0.3)\n",
        "aug_test_X = np.concatenate((robust_test_X, new_X_test_data), axis=0)\n",
        "aug_test_y = np.concatenate((test_y, new_y_test_data), axis=0)\n"
      ],
      "execution_count": null,
      "outputs": []
    },
    {
      "cell_type": "markdown",
      "metadata": {
        "id": "dmbSCBCH2I9p"
      },
      "source": [
        "\n",
        "1. One hidden layer with 10 units\n",
        "2. random_state = 1\n",
        "3. 300 max iterations"
      ]
    },
    {
      "cell_type": "code",
      "metadata": {
        "id": "9rVs2i_C_F1o"
      },
      "source": [
        "\n",
        "model = MLPClassifier(hidden_layer_sizes = (10), random_state = 1, max_iter= 300) # YOUR CODE HERE"
      ],
      "execution_count": null,
      "outputs": []
    },
    {
      "cell_type": "code",
      "metadata": {
        "id": "5okHo29ZXt13",
        "colab": {
          "base_uri": "https://localhost:8080/",
          "height": 915
        },
        "outputId": "790c24c7-e0fa-4912-bbd5-052ad2704731"
      },
      "source": [
        "\n",
        "model.fit(aug_train_X, aug_train_y)\n",
        "y_pred = model.predict(aug_test_X)\n",
        "accuracy = accuracy_score(aug_test_y, y_pred)\n",
        "print(accuracy)\n",
        "analyze_results(model = model, train_X = aug_train_X, train_y = aug_train_y, test_X = aug_test_X, test_y = aug_test_y )"
      ],
      "execution_count": null,
      "outputs": [
        {
          "output_type": "stream",
          "name": "stdout",
          "text": [
            "0.9938888888888889\n",
            "-------------------------------------------\n",
            "Model Results\n",
            "\n",
            "Training:\n"
          ]
        },
        {
          "output_type": "display_data",
          "data": {
            "text/plain": [
              "<Figure size 1584x504 with 2 Axes>"
            ],
            "image/png": "[encoded data removed]"
          },
          "metadata": {
            "needs_background": "light"
          }
        },
        {
          "output_type": "stream",
          "name": "stdout",
          "text": [
            "Testing:\n"
          ]
        },
        {
          "output_type": "display_data",
          "data": {
            "text/plain": [
              "<Figure size 1584x504 with 2 Axes>"
            ],
            "image/png": "[encoded data removed]"
          },
          "metadata": {
            "needs_background": "light"
          }
        }
      ]
    }
  ]
}